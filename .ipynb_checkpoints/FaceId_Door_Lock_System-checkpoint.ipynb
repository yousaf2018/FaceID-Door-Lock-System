{
 "cells": [
  {
   "cell_type": "markdown",
   "id": "dried-syntax",
   "metadata": {},
   "source": [
    "## Dataset generation using opencv"
   ]
  },
  {
   "cell_type": "code",
   "execution_count": 1,
   "id": "operational-genealogy",
   "metadata": {},
   "outputs": [],
   "source": [
    "import cv2"
   ]
  },
  {
   "cell_type": "code",
   "execution_count": 2,
   "id": "electrical-phoenix",
   "metadata": {},
   "outputs": [],
   "source": [
    "def dataset_generation():\n",
    "    FaceClassifier = cv2.CascadeClassifier(\"haarcascade_frontalface_default.xml\")\n",
    "    def face_detection(image):\n",
    "        gray_scale = cv2.cvtColor(image, cv2.COLOR_BGR2GRAY)\n",
    "        detected_face = FaceClassifier.detectMultiScale(gray_scale, 1.3, 5)\n",
    "        \n",
    "        if detected_face is ():\n",
    "            return None\n",
    "        for (x,y,w,h) in detected_face:\n",
    "            face = image[y:y+h,x:x+w]\n",
    "        return face\n",
    "    \n",
    "    videoCapture = cv2.VideoCapture(0)\n",
    "    image_id = 0\n",
    "    \n",
    "    while True:\n",
    "        ret, frame = videoCapture.read()\n",
    "        if face_detection(frame) is not None:\n",
    "            image_id+=1\n",
    "            face = cv2.resize(face_detection(frame), (250,250))\n",
    "            face = cv2.cvtColor(face, cv2.COLOR_BGR2GRAY)\n",
    "            #Saving images from web cam to local disk\n",
    "            file_name_path = \"Dataset/\"+\"Yousaf_\"+str(image_id)+'.jpg'\n",
    "            cv2.imwrite(file_name_path, face)\n",
    "            cv2.putText(face, str(image_id), (50,50), cv2.FONT_HERSHEY_COMPLEX, 1, (0,255,0), 2 )\n",
    "            \n",
    "            cv2.imshow(\"Cropped_Face\", face)\n",
    "            if cv2.waitKey(1)==13 or int(image_id)==500:\n",
    "                break\n",
    "                \n",
    "    videoCapture.release()\n",
    "    cv2.destroyAllWindows()\n",
    "    print(\"Data Collection is completed\")"
   ]
  },
  {
   "cell_type": "code",
   "execution_count": 3,
   "id": "adjacent-forwarding",
   "metadata": {},
   "outputs": [
    {
     "name": "stdout",
     "output_type": "stream",
     "text": [
      "Data Collection is completed\n"
     ]
    }
   ],
   "source": [
    "dataset_generation()"
   ]
  },
  {
   "cell_type": "code",
   "execution_count": null,
   "id": "faced-iraqi",
   "metadata": {},
   "outputs": [],
   "source": []
  },
  {
   "cell_type": "code",
   "execution_count": null,
   "id": "existing-empire",
   "metadata": {},
   "outputs": [],
   "source": []
  }
 ],
 "metadata": {
  "kernelspec": {
   "display_name": "Python 3",
   "language": "python",
   "name": "python3"
  },
  "language_info": {
   "codemirror_mode": {
    "name": "ipython",
    "version": 3
   },
   "file_extension": ".py",
   "mimetype": "text/x-python",
   "name": "python",
   "nbconvert_exporter": "python",
   "pygments_lexer": "ipython3",
   "version": "3.7.9"
  }
 },
 "nbformat": 4,
 "nbformat_minor": 5
}
