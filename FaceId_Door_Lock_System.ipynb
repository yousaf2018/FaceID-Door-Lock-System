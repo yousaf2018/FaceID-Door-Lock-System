{
 "cells": [
  {
   "cell_type": "markdown",
   "id": "dried-syntax",
   "metadata": {},
   "source": [
    "## Dataset generation using opencv"
   ]
  },
  {
   "cell_type": "code",
   "execution_count": 12,
   "id": "operational-genealogy",
   "metadata": {},
   "outputs": [],
   "source": [
    "import cv2"
   ]
  },
  {
   "cell_type": "code",
   "execution_count": null,
   "id": "electrical-phoenix",
   "metadata": {},
   "outputs": [],
   "source": [
    "def dataset_generation():\n",
    "    FaceClassifier = cv2.CascadeClassifier(\"haarcascade_frontalface_default.xml\")\n",
    "    def face_detection(image):\n",
    "        gray_scale = cv2.cvtColor(image, cv2.COLOR_BGR2GRAY)\n",
    "        detected_face = FaceClassifier.detectMultiScale(gray_scale, 1.3, 5)\n",
    "        \n",
    "        if detected_face is ():\n",
    "            return None\n",
    "        for (x,y,w,h) in detected_face:\n",
    "            face = image[y:y+h,x:x+w]\n",
    "        return face\n",
    "    \n",
    "    videoCapture = cv2.VideoCapture(0)\n",
    "    image_id = 0\n",
    "    \n",
    "    while True:\n",
    "        ret, frame = videoCapture.read()\n",
    "        if face_detection(frame) is not None:\n",
    "            image_id+=1\n",
    "            face = cv2.resize(face_detection(frame), (250,250))\n",
    "            face = cv2.cvtColor(face, cv2.COLOR_BGR2GRAY)\n",
    "            #Saving images from web cam to local disk\n",
    "            file_name_path = \"Dataset/\"+\"Yousaf_\"+str(image_id)+'.jpg'\n",
    "            cv2.imwrite(file_name_path, face)\n",
    "            cv2.putText(face, str(image_id), (50,50), cv2.FONT_HERSHEY_COMPLEX, 1, (0,255,0), 2 )\n",
    "            \n",
    "            cv2.imshow(\"Cropped_Face\", face)\n",
    "            if cv2.waitKey(1)==13 or int(image_id)==500:\n",
    "                break\n",
    "                \n",
    "    videoCapture.release()\n",
    "    cv2.destroyAllWindows()\n",
    "    print(\"Data Collection is completed\")"
   ]
  },
  {
   "cell_type": "code",
   "execution_count": null,
   "id": "adjacent-forwarding",
   "metadata": {},
   "outputs": [],
   "source": [
    "dataset_generation()"
   ]
  },
  {
   "cell_type": "code",
   "execution_count": 1,
   "id": "faced-iraqi",
   "metadata": {},
   "outputs": [],
   "source": [
    "import numpy as np"
   ]
  },
  {
   "cell_type": "code",
   "execution_count": 43,
   "id": "existing-empire",
   "metadata": {},
   "outputs": [],
   "source": [
    "#Creating labels for each person\n",
    "def label(image):\n",
    "    name = image.split(\"_\")[0]\n",
    "    #One hot encoding for four persons \n",
    "    if name == \"Yousaf\":\n",
    "        return np.array([1,0,0,0])\n",
    "    elif name == \"Qazi\":\n",
    "        return np.array([0,1,0,0])\n",
    "    elif name == \"Abdullah\":\n",
    "        return np.array([0,0,1,0])\n",
    "    elif name == \"Manzoor\":\n",
    "        return np.array([0,0,0,1])"
   ]
  },
  {
   "cell_type": "markdown",
   "id": "specialized-wilson",
   "metadata": {},
   "source": [
    "## Preparing dataset for deep learning model"
   ]
  },
  {
   "cell_type": "code",
   "execution_count": 55,
   "id": "interracial-irish",
   "metadata": {},
   "outputs": [],
   "source": [
    "import os \n",
    "from random import shuffle\n",
    "from tqdm import tqdm"
   ]
  },
  {
   "cell_type": "code",
   "execution_count": 56,
   "id": "veterinary-bonus",
   "metadata": {},
   "outputs": [],
   "source": [
    "def load_data():\n",
    "    dataset = []\n",
    "    for image_name in tqdm(os.listdir(\"C:\\\\Users\\\\Marhaba\\\\Desktop\\\\Computer Vision\\\\FaceId_Door_Lock_System\\\\Dataset\")):\n",
    "        image_path = os.path.join(\"C:\\\\Users\\\\Marhaba\\\\Desktop\\\\Computer Vision\\\\FaceId_Door_Lock_System\\\\Dataset\",image_name)\n",
    "        image = cv2.imread(image_path,cv2.IMREAD_GRAYSCALE)\n",
    "        dataset.append([image,label(image_name)])\n",
    "    shuffle(dataset)\n",
    "    return dataset"
   ]
  },
  {
   "cell_type": "code",
   "execution_count": 57,
   "id": "known-diary",
   "metadata": {},
   "outputs": [
    {
     "name": "stderr",
     "output_type": "stream",
     "text": [
      "100%|██████████| 2000/2000 [00:01<00:00, 1077.59it/s]\n"
     ]
    }
   ],
   "source": [
    "dataset = load_data()"
   ]
  },
  {
   "cell_type": "code",
   "execution_count": 58,
   "id": "completed-fraud",
   "metadata": {},
   "outputs": [
    {
     "data": {
      "text/plain": [
       "[array([[ 75,  75,  75, ...,  62,  62,  62],\n",
       "        [ 76,  75,  75, ...,  62,  62,  62],\n",
       "        [ 76,  75,  76, ...,  62,  62,  62],\n",
       "        ...,\n",
       "        [ 58,  59,  60, ..., 106, 106, 106],\n",
       "        [ 58,  58,  58, ..., 108, 108, 109],\n",
       "        [ 58,  58,  58, ..., 108, 110, 111]], dtype=uint8),\n",
       " array([1, 0, 0, 0])]"
      ]
     },
     "execution_count": 58,
     "metadata": {},
     "output_type": "execute_result"
    }
   ],
   "source": [
    "dataset[10]"
   ]
  },
  {
   "cell_type": "code",
   "execution_count": 59,
   "id": "still-salem",
   "metadata": {},
   "outputs": [
    {
     "name": "stdout",
     "output_type": "stream",
     "text": [
      "(1600, 250, 250, 1)\n",
      "1600\n",
      "(400, 250, 250, 1)\n",
      "400\n"
     ]
    }
   ],
   "source": [
    "#Splitting dataset into training and testing \n",
    "train_dataset = dataset[:1600]\n",
    "test_dataset = dataset[1600::]\n",
    "X = np.array([k[0] for k in train_dataset]).reshape(-1,250,250,1)\n",
    "print(X.shape)\n",
    "Y = [j[1] for j in train_dataset]\n",
    "print(len(Y))\n",
    "X_test = np.array([k[0] for k in test_dataset]).reshape(-1,250,250,1)\n",
    "print(X_test.shape)\n",
    "Y_test = [j[1] for j in test_dataset]\n",
    "print(len(Y_test))"
   ]
  },
  {
   "cell_type": "code",
   "execution_count": null,
   "id": "sunrise-invasion",
   "metadata": {},
   "outputs": [],
   "source": []
  },
  {
   "cell_type": "code",
   "execution_count": null,
   "id": "latter-afghanistan",
   "metadata": {},
   "outputs": [],
   "source": []
  },
  {
   "cell_type": "code",
   "execution_count": null,
   "id": "toxic-timer",
   "metadata": {},
   "outputs": [],
   "source": []
  }
 ],
 "metadata": {
  "kernelspec": {
   "display_name": "Python 3",
   "language": "python",
   "name": "python3"
  },
  "language_info": {
   "codemirror_mode": {
    "name": "ipython",
    "version": 3
   },
   "file_extension": ".py",
   "mimetype": "text/x-python",
   "name": "python",
   "nbconvert_exporter": "python",
   "pygments_lexer": "ipython3",
   "version": "3.7.9"
  }
 },
 "nbformat": 4,
 "nbformat_minor": 5
}
